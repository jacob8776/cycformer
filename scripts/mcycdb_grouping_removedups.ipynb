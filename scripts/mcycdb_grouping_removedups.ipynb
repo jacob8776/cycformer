{
 "cells": [
  {
   "cell_type": "markdown",
   "id": "introductory-diameter",
   "metadata": {},
   "source": [
    "list of central methanogenic pathway genes"
   ]
  },
  {
   "cell_type": "code",
   "execution_count": 2,
   "id": "b81560f3",
   "metadata": {},
   "outputs": [
    {
     "name": "stdout",
     "output_type": "stream",
     "text": [
      "this string is a dup!:fmdABCDEF\n",
      "this string is a dup!:fwdABCDEFGH\n",
      "this string is a dup!:ftr\n",
      "this string is a dup!:mch\n",
      "this string is a dup!:mtdAB\n",
      "this string is a dup!:hmd\n",
      "this string is a dup!:mer\n",
      "this string is a dup!:metF\n",
      "this string is a dup!:mtrABCDEFGH\n",
      "this string is a dup!:mcrABCDG\n",
      "this string is a dup!:hdrA1B1C1A2B2C2DE\n",
      "this string is a dup!:rnfABCDEG\n",
      "this string is a dup!:frhABDG\n",
      "this string is a dup!:fruABDG\n",
      "this string is a dup!:frcABDG\n",
      "this string is a dup!:fpoABCDFHIJKLMNO\n",
      "this string is a dup!:fqoADFHJKLMN\n",
      "this string is a dup!:mch\n",
      "['mtrABCDEFGH', 'mcrABCDG', 'hdrA1B1C1A2B2C2DE', 'mvhADG', 'ehaABCDEFGHIJKLMNOPQR', 'ehbABCDEFGHIJKLMNOPQ', 'mbhLKJ', 'rnfABCDEG', 'echABCDEF', 'vhoACG', 'vhtACG', 'vhuAUDG', 'vhcADG', 'fpoABCDFHIJKLMNO', 'fqoADFHJKLMN', 'frhABDG', 'fruABDG', 'frcABDG', 'fmdABCDEF', 'fwdABCDEFGH', 'ftr', 'mch', 'mtdAB', 'hmd', 'mer', 'metF', 'acs', 'acsA', 'acsCD', 'ackA', 'pta', 'cdhCDE', 'cdhAB', 'acdAB', 'cooSF', 'mtaABC', 'mtbABC', 'mtsAB', 'torACDYZ', 'mttBC', 'mtmBC', 'narGZHYB', 'napH', 'nrfH', 'nrfA', 'nxrA', 'nod', 'nirKS', 'cytC', 'pqqABCDEF', 'mmoXYZBCD', 'pmoABC', 'amoABC', 'xoxF1F2F4F5', 'mxaFIJGACKLD', 'mauABCDEF', 'mgsABC', 'mgdABD', 'qhpA', 'dcmR', 'dcmA', 'mdh', 'tmm', 'gfa', 'frmAB', 'fghA', 'fae', 'mtdB', 'mdo', 'fdm', 'fdwABE', 'fdsBDG', 'fdoGHI', 'fdhF', 'fdhAB', 'fchA', 'mtdA', 'dfrA1A12A10A19', 'folA', 'glyA', 'hprA', 'gck', 'eno', 'ppc', 'mtkAB', 'mcl', 'gpmIB', 'apgM', 'serA', 'serC', 'serB', 'thrH', 'psp', 'porABDG', 'pps', 'hxlB', 'hxlA', 'pfkABC', 'pfp', 'fbaAB', 'glpX', 'fbp', 'fbp3']\n"
     ]
    }
   ],
   "source": [
    "gene_list_all = [\"mtrABCDEFGH\", \"mcrABCDG\", \"hdrA1B1C1A2B2C2DE\", \"mvhADG\", \n",
    "\"ehaABCDEFGHIJKLMNOPQR\", \"ehbABCDEFGHIJKLMNOPQ\", \"mbhLKJ\", \"rnfABCDEG\", \n",
    "\"echABCDEF\", \"vhoACG\", \"vhtACG\", \"vhuAUDG\", \"vhcADG\", \"fpoABCDFHIJKLMNO\", \n",
    "\"fqoADFHJKLMN\", \"frhABDG\", \"fruABDG\", \"frcABDG\", \"fmdABCDEF\", \"fwdABCDEFGH\", \n",
    "             \"ftr\", \"mch\", \"hmd\", \"mer\", \"metF\",\n",
    "             \"acs\", \"acsA\", \"acsCD\", \"ackA\", \"pta\", \"cdhCDE\", \"cdhAB\", \"acdAB\", \"cooSF\",\n",
    "             \"mtaABC\", \"mtbABC\", \"mtsAB\", \"torACDYZ\", \"mttBC\", \"mtmBC\",\n",
    "             \"fmdABCDEF\", \"fwdABCDEFGH\", \"ftr\", \"mch\", \"mtdAB\", \"hmd\", \"mer\", \"metF\", \"mtrABCDEFGH\",\n",
    "            \"mcrABCDG\", \"hdrA1B1C1A2B2C2DE\", \"rnfABCDEG\", \"frhABDG\", \"fruABDG\", \"frcABDG\", \"fpoABCDFHIJKLMNO\", \n",
    "            \"fqoADFHJKLMN\", \"narGZHYB\", \"napH\", \"nrfH\", \"nrfA\", \"nxrA\", \"nod\", \"nirKS\", \"cytC\",\n",
    "             \"pqqABCDEF\", \"mmoXYZBCD\", \"pmoABC\", \"amoABC\", \"xoxF1F2F4F5\", \"mxaFIJGACKLD\", \"mauABCDEF\", \"mgsABC\",\n",
    "            \"mgdABD\", \"qhpA\", \"dcmR\", \"dcmA\", \"mdh\", \"tmm\",\n",
    "             \"gfa\", \"frmAB\", \"fghA\", \"fae\", \"mtdB\", \"mch\", \"mdo\", \"fdm\",\n",
    "             \"fdwABE\", \"fdsBDG\", \"fdoGHI\", \"fdhF\", \"fdhAB\",\n",
    "             \"fchA\", \"mtdA\", \"dfrA1A12A10A19\", \"folA\", \"glyA\", \"hprA\", \"gck\", \"eno\", \"ppc\", \"mtkAB\", \"mcl\", \n",
    "            \"gpmIB\", \"apgM\", \"serA\", \"serC\", \"serB\", \"thrH\", \"psp\", \"porABDG\", \"pps\",\n",
    "             \"hxlB\", \"hxlA\", \"pfkABC\", \"pfp\", \"fbaAB\", \"glpX\", \"fbp\", \"fbp3\"\n",
    "            ]\n",
    "\n",
    "unique_strings = []\n",
    "\n",
    "for string in gene_list_all: \n",
    "    if string not in unique_strings: \n",
    "        unique_strings.append(string)\n",
    "    else: \n",
    "        print(\"this string is a dup!:\" + string)\n",
    "        \n",
    "print(unique_strings)\n"
   ]
  },
  {
   "cell_type": "code",
   "execution_count": 2,
   "id": "split-wiring",
   "metadata": {},
   "outputs": [
    {
     "name": "stdout",
     "output_type": "stream",
     "text": [
      "['mtrA', 'mtrB', 'mtrC', 'mtrD', 'mtrE', 'mtrF', 'mtrG', 'mtrH', 'mcrA', 'mcrB', 'mcrC', 'mcrD', 'mcrG', 'hdrA1', 'hdrB1', 'hdrC1', 'hdrA2', 'hdrB2', 'hdrC2', 'hdrD', 'hdrE', 'mcrA', 'mcrB', 'mcrC', 'mcrD', 'mcrG', 'hdrA1', 'hdrB1', 'hdrC1', 'hdrA2', 'hdrB2', 'hdrC2', 'hdrD', 'hdrE', 'mvhA', 'mvhD', 'mvhG', 'ehaA', 'ehaB', 'ehaC', 'ehaD', 'ehaE', 'ehaF', 'ehaG', 'ehaH', 'ehaI', 'ehaJ', 'ehaK', 'ehaL', 'ehaM', 'ehaN', 'ehaO', 'ehaP', 'ehaQ', 'ehaR', 'ehbA', 'ehbB', 'ehbC', 'ehbD', 'ehbE', 'ehbF', 'ehbG', 'ehbH', 'ehbI', 'ehbJ', 'ehbK', 'ehbL', 'ehbM', 'ehbN', 'ehbO', 'ehbP', 'ehbQ', 'mbhL', 'mbhK', 'mbhJ', 'rnfA', 'rnfB', 'rnfC', 'rnfD', 'rnfE', 'rnfG', 'echA', 'echB', 'echC', 'echD', 'echE', 'echF', 'vhoA', 'vhoC', 'vhoG', 'vhtA', 'vhtC', 'vhtG', 'vhuA', 'vhuU', 'vhuD', 'vhuG', 'vhcA', 'vhcD', 'vhcG', 'fpoA', 'fpoB', 'fpoC', 'fpoD', 'fpoF', 'fpoH', 'fpoI', 'fpoJ', 'fpoK', 'fpoL', 'fpoM', 'fpoN', 'fpoO', 'fqoA', 'fqoD', 'fqoF', 'fqoH', 'fqoJ', 'fqoK', 'fqoL', 'fqoM', 'fqoN', 'frhA', 'frhB', 'frhD', 'frhG', 'fruA', 'fruB', 'fruD', 'fruG', 'frcA', 'frcB', 'frcD', 'frcG']\n"
     ]
    }
   ],
   "source": [
    "gene_list = [\"mtrABCDEFGH\", \"mcrABCDG\", \"hdrA1B1C1A2B2C2DE\", \"mvhADG\", \n",
    "\"ehaABCDEFGHIJKLMNOPQR\", \"ehbABCDEFGHIJKLMNOPQ\", \"mbhLKJ\", \"rnfABCDEG\", \n",
    "\"echABCDEF\", \"vhoACG\", \"vhtACG\", \"vhuAUDG\", \"vhcADG\", \"fpoABCDFHIJKLMNO\", \n",
    "\"fqoADFHJKLMN\", \"frhABDG\", \"fruABDG\", \"frcABDG\"]\n",
    "\n",
    "cenmetpat = []\n",
    "\n",
    "for gene in gene_list: \n",
    "  for i in gene[3:]:\n",
    "    if i.isalpha(): \n",
    "      cenmetpat.append(gene[0:3] + i)\n",
    "    else: \n",
    "      cenmetpat[-1] = cenmetpat[-1] + i\n",
    "    \n",
    "print(cenmetpat)"
   ]
  },
  {
   "cell_type": "markdown",
   "id": "involved-buying",
   "metadata": {},
   "source": [
    "list of hydrogenotrophic methanogenesis genes"
   ]
  },
  {
   "cell_type": "code",
   "execution_count": 3,
   "id": "excessive-works",
   "metadata": {},
   "outputs": [
    {
     "name": "stdout",
     "output_type": "stream",
     "text": [
      "['fmdA', 'fmdB', 'fmdC', 'fmdD', 'fmdE', 'fmdF', 'fwdA', 'fwdB', 'fwdC', 'fwdD', 'fwdE', 'fwdF', 'fwdG', 'fwdH', 'ftr', 'mch', 'mtdA', 'mtdB', 'hmd', 'mer', 'metF']\n"
     ]
    }
   ],
   "source": [
    "gene_list = [\"hmd\", \"mer\", \"metF\"]\n",
    "\n",
    "hydro_met = []\n",
    "\n",
    "for gene in gene_list: \n",
    "    if len(gene) <= 3: \n",
    "        hydro_met.append(gene)\n",
    "    else: \n",
    "        for i in gene[3:]:\n",
    "            if i.isalpha(): \n",
    "              hydro_met.append(gene[0:3] + i)\n",
    "            else: \n",
    "              hydro_met[-1] = hydro_met[-1] + i\n",
    "    \n",
    "print(hydro_met)"
   ]
  },
  {
   "cell_type": "markdown",
   "id": "found-percentage",
   "metadata": {},
   "source": [
    "list of aceticlastic methanogenesis genes"
   ]
  },
  {
   "cell_type": "code",
   "execution_count": 5,
   "id": "weighted-statistics",
   "metadata": {},
   "outputs": [
    {
     "name": "stdout",
     "output_type": "stream",
     "text": [
      "['acs', 'acsA', 'acsC', 'acsD', 'ackA', 'pta', 'cdhC', 'cdhD', 'cdhE', 'cdhA', 'cdhB', 'acdA', 'acdB', 'cooS', 'cooF']\n"
     ]
    }
   ],
   "source": [
    "gene_list = [\"acs\", \"acsA\", \"acsCD\", \"ackA\", \"pta\", \"cdhCDE\", \"cdhAB\", \"acdAB\", \"cooSF\"]\n",
    "\n",
    "aceti_met = []\n",
    "\n",
    "for gene in gene_list: \n",
    "    if len(gene) <= 3: \n",
    "        aceti_met.append(gene)\n",
    "    else: \n",
    "        for i in gene[3:]:\n",
    "            if i.isalpha(): \n",
    "              aceti_met.append(gene[0:3] + i)\n",
    "            else: \n",
    "              aceti_met[-1] = aceti_met[-1] + i\n",
    "    \n",
    "print(aceti_met)"
   ]
  },
  {
   "cell_type": "markdown",
   "id": "capable-syracuse",
   "metadata": {},
   "source": [
    "list of methylotrophic methanogenesis genes "
   ]
  },
  {
   "cell_type": "code",
   "execution_count": 6,
   "id": "foster-locator",
   "metadata": {},
   "outputs": [
    {
     "name": "stdout",
     "output_type": "stream",
     "text": [
      "['mtaA', 'mtaB', 'mtaC', 'mtbA', 'mtbB', 'mtbC', 'mtsA', 'mtsB', 'torA', 'torC', 'torD', 'torY', 'torZ', 'mttB', 'mttC', 'mtmB', 'mtmC']\n"
     ]
    }
   ],
   "source": [
    "gene_list = [\"mtaABC\", \"mtbABC\", \"mtsAB\", \"torACDYZ\", \"mttBC\", \"mtmBC\"]\n",
    "\n",
    "methyl_met = []\n",
    "\n",
    "for gene in gene_list: \n",
    "    if len(gene) <= 3: \n",
    "        methyl_met.append(gene)\n",
    "    else: \n",
    "        for i in gene[3:]:\n",
    "            if i.isalpha(): \n",
    "              methyl_met.append(gene[0:3] + i)\n",
    "            else: \n",
    "              methyl_met[-1] = methyl_met[-1] + i\n",
    "    \n",
    "print(methyl_met)"
   ]
  },
  {
   "cell_type": "markdown",
   "id": "seventh-travel",
   "metadata": {},
   "source": [
    "list of anaerobic oxidation of methane genes "
   ]
  },
  {
   "cell_type": "code",
   "execution_count": 7,
   "id": "flush-premises",
   "metadata": {},
   "outputs": [
    {
     "name": "stdout",
     "output_type": "stream",
     "text": [
      "['fmdA', 'fmdB', 'fmdC', 'fmdD', 'fmdE', 'fmdF', 'fwdA', 'fwdB', 'fwdC', 'fwdD', 'fwdE', 'fwdF', 'fwdG', 'fwdH', 'ftr', 'mch', 'mtdA', 'mtdB', 'hmd', 'mer', 'metF', 'mtrA', 'mtrB', 'mtrC', 'mtrD', 'mtrE', 'mtrF', 'mtrG', 'mtrH', 'mcrA', 'mcrB', 'mcrC', 'mcrD', 'mcrG', 'hdrA1', 'hdrB1', 'hdrC1', 'hdrA2', 'hdrB2', 'hdrC2', 'hdrD', 'hdrE', 'rnfA', 'rnfB', 'rnfC', 'rnfD', 'rnfE', 'rnfG', 'frhA', 'frhB', 'frhD', 'frhG', 'fruA', 'fruB', 'fruD', 'fruG', 'frcA', 'frcB', 'frcD', 'frcG', 'fpoA', 'fpoB', 'fpoC', 'fpoD', 'fpoF', 'fpoH', 'fpoI', 'fpoJ', 'fpoK', 'fpoL', 'fpoM', 'fpoN', 'fpoO', 'fqoA', 'fqoD', 'fqoF', 'fqoH', 'fqoJ', 'fqoK', 'fqoL', 'fqoM', 'fqoN', 'narG', 'narZ', 'narH', 'narY', 'narB', 'napH', 'nrfH', 'nrfA', 'nxrA', 'nod', 'nirK', 'nirS', 'cytC']\n"
     ]
    }
   ],
   "source": [
    "gene_list = [\"hmd\", \"mer\", \"metF\", \"mtrABCDEFGH\",\n",
    "            \"mcrABCDG\", \"hdrA1B1C1A2B2C2DE\", \"rnfABCDEG\", \"frhABDG\", \"fruABDG\", \"frcABDG\", \"fpoABCDFHIJKLMNO\", \n",
    "            \"fqoADFHJKLMN\", \"narGZHYB\", \"napH\", \"nrfH\", \"nrfA\", \"nxrA\", \"nod\", \"nirKS\", \"cytC\"]\n",
    "\n",
    "aom = []\n",
    "\n",
    "for gene in gene_list: \n",
    "    if len(gene) <= 3: \n",
    "        aom.append(gene)\n",
    "    else: \n",
    "        for i in gene[3:]:\n",
    "            if i.isalpha(): \n",
    "              aom.append(gene[0:3] + i)\n",
    "            else: \n",
    "              aom[-1] = aom[-1] + i\n",
    "    \n",
    "print(aom)"
   ]
  },
  {
   "cell_type": "markdown",
   "id": "executive-scroll",
   "metadata": {},
   "source": [
    "oxidation of methane and c1 compounds"
   ]
  },
  {
   "cell_type": "code",
   "execution_count": 9,
   "id": "brief-password",
   "metadata": {},
   "outputs": [
    {
     "name": "stdout",
     "output_type": "stream",
     "text": [
      "['pqqA', 'pqqB', 'pqqC', 'pqqD', 'pqqE', 'pqqF', 'mmoX', 'mmoY', 'mmoZ', 'mmoB', 'mmoC', 'mmoD', 'pmoA', 'pmoB', 'pmoC', 'amoA', 'amoB', 'amoC', 'xoxF1', 'xoxF2', 'xoxF4', 'xoxF5', 'mxaF', 'mxaI', 'mxaJ', 'mxaG', 'mxaA', 'mxaC', 'mxaK', 'mxaL', 'mxaD', 'mauA', 'mauB', 'mauC', 'mauD', 'mauE', 'mauF', 'mgsA', 'mgsB', 'mgsC', 'mgdA', 'mgdB', 'mgdD', 'qhpA', 'dcmR', 'dcmA', 'mdh', 'tmm']\n"
     ]
    }
   ],
   "source": [
    "gene_list = [\"pqqABCDEF\", \"mmoXYZBCD\", \"pmoABC\", \"amoABC\", \"xoxF1F2F4F5\", \"mxaFIJGACKLD\", \"mauABCDEF\", \"mgsABC\",\n",
    "            \"mgdABD\", \"qhpA\", \"dcmR\", \"dcmA\", \"mdh\", \"tmm\"]\n",
    "\n",
    "oxid_met_c1 = []\n",
    "\n",
    "for gene in gene_list: \n",
    "    if len(gene) <= 3: \n",
    "        oxid_met_c1.append(gene)\n",
    "    else: \n",
    "        for i in gene[3:]:\n",
    "            if i.isalpha(): \n",
    "              oxid_met_c1.append(gene[0:3] + i)\n",
    "            else: \n",
    "              oxid_met_c1[-1] = oxid_met_c1[-1] + i\n",
    "    \n",
    "print(oxid_met_c1)"
   ]
  },
  {
   "cell_type": "markdown",
   "id": "tracked-stream",
   "metadata": {},
   "source": [
    "oxidation of formaldehyde"
   ]
  },
  {
   "cell_type": "code",
   "execution_count": 11,
   "id": "moved-photograph",
   "metadata": {},
   "outputs": [
    {
     "name": "stdout",
     "output_type": "stream",
     "text": [
      "['gfa', 'frmA', 'frmB', 'fghA', 'fae', 'mtdB', 'mch', 'mdo', 'fdm', 'fdhA-K00148']\n"
     ]
    }
   ],
   "source": [
    "gene_list = [\"gfa\", \"frmAB\", \"fghA\", \"fae\", \"mtdB\", \"mdo\", \"fdm\"]\n",
    "\n",
    "oxid_formaldehyde = []\n",
    "\n",
    "for gene in gene_list: \n",
    "    if len(gene) <= 3: \n",
    "        oxid_formaldehyde.append(gene)\n",
    "    else: \n",
    "        for i in gene[3:]:\n",
    "            if i.isalpha(): \n",
    "              oxid_formaldehyde.append(gene[0:3] + i)\n",
    "            else: \n",
    "              oxid_formaldehyde[-1] = oxid_formaldehyde[-1] + i\n",
    "            \n",
    "oxid_formaldehyde.append(\"fdhA-K00148\")\n",
    "    \n",
    "print(oxid_formaldehyde)"
   ]
  },
  {
   "cell_type": "markdown",
   "id": "fatty-catholic",
   "metadata": {},
   "source": [
    "oxidation of formate"
   ]
  },
  {
   "cell_type": "code",
   "execution_count": 12,
   "id": "decreased-dodge",
   "metadata": {},
   "outputs": [
    {
     "name": "stdout",
     "output_type": "stream",
     "text": [
      "['fdwA', 'fdwB', 'fdwE', 'fdsB', 'fdsD', 'fdsG', 'fdoG', 'fdoH', 'fdoI', 'fdhF', 'fdhA', 'fdhB']\n"
     ]
    }
   ],
   "source": [
    "gene_list = [\"fdwABE\", \"fdsBDG\", \"fdoGHI\", \"fdhF\", \"fdhAB\"]\n",
    "\n",
    "oxid_formate = []\n",
    "\n",
    "for gene in gene_list: \n",
    "    if len(gene) <= 3: \n",
    "        oxid_formate.append(gene)\n",
    "    else: \n",
    "        for i in gene[3:]:\n",
    "            if i.isalpha(): \n",
    "              oxid_formate.append(gene[0:3] + i)\n",
    "            else: \n",
    "              oxid_formate[-1] = oxid_formate[-1] + i\n",
    "            \n",
    "    \n",
    "print(oxid_formate)"
   ]
  },
  {
   "cell_type": "markdown",
   "id": "joined-medicare",
   "metadata": {},
   "source": [
    "serine cycle"
   ]
  },
  {
   "cell_type": "code",
   "execution_count": 13,
   "id": "historical-gentleman",
   "metadata": {
    "scrolled": true
   },
   "outputs": [
    {
     "name": "stdout",
     "output_type": "stream",
     "text": [
      "['fchA', 'mtdA', 'dfrA1', 'dfrA12', 'dfrA10', 'dfrA19', 'folA', 'glyA', 'hprA', 'gck', 'eno', 'ppc', 'mtkA', 'mtkB', 'mcl', 'gpmI', 'gpmB', 'apgM', 'serA', 'serC', 'serB', 'thrH', 'psp', 'porA', 'porB', 'porD', 'porG', 'pps', 'mdh-K00024']\n"
     ]
    }
   ],
   "source": [
    "gene_list = [\"fchA\", \"mtdA\", \"dfrA1A12A10A19\", \"folA\", \"glyA\", \"hprA\", \"gck\", \"eno\", \"ppc\", \"mtkAB\", \"mcl\", \n",
    "            \"gpmIB\", \"apgM\", \"serA\", \"serC\", \"serB\", \"thrH\", \"psp\", \"porABDG\", \"pps\"]\n",
    "\n",
    "serine = []\n",
    "\n",
    "for gene in gene_list: \n",
    "    if len(gene) <= 3: \n",
    "        serine.append(gene)\n",
    "    else: \n",
    "        for i in gene[3:]:\n",
    "            if i.isalpha(): \n",
    "              serine.append(gene[0:3] + i)\n",
    "            else: \n",
    "              serine[-1] = serine[-1] + i\n",
    "            \n",
    "serine.append(\"mdh-K00024\")\n",
    "\n",
    "\n",
    "    \n",
    "print(serine)"
   ]
  },
  {
   "cell_type": "markdown",
   "id": "economic-sewing",
   "metadata": {},
   "source": [
    "rump cycle"
   ]
  },
  {
   "cell_type": "code",
   "execution_count": 14,
   "id": "smaller-parcel",
   "metadata": {
    "scrolled": true
   },
   "outputs": [
    {
     "name": "stdout",
     "output_type": "stream",
     "text": [
      "['hxlB', 'hxlA', 'pfkA', 'pfkB', 'pfkC', 'pfp', 'fbaA', 'fbaB', 'glpX', 'fbp3', 'fae-hps', 'fbp-SEBP']\n"
     ]
    }
   ],
   "source": [
    "gene_list = [\"hxlB\", \"hxlA\", \"pfkABC\", \"pfp\", \"fbaAB\", \"glpX\", \"fbp\", \"fbp3\"]\n",
    "\n",
    "rump = []\n",
    "\n",
    "for gene in gene_list: \n",
    "    if len(gene) <= 3: \n",
    "        rump.append(gene)\n",
    "    else: \n",
    "        for i in gene[3:]:\n",
    "            if i.isalpha(): \n",
    "              rump.append(gene[0:3] + i)\n",
    "            else: \n",
    "              rump[-1] = rump[-1] + i\n",
    "\n",
    "rump.append(\"fae-hps\")\n",
    "rump.append(\"fbp-SEBP\")\n",
    "\n",
    "\n",
    "\n",
    "    \n",
    "print(rump)"
   ]
  },
  {
   "cell_type": "code",
   "execution_count": null,
   "id": "86b469b6",
   "metadata": {},
   "outputs": [],
   "source": []
  },
  {
   "cell_type": "markdown",
   "id": "supreme-rugby",
   "metadata": {},
   "source": [
    "grouping by cycle in dataframe"
   ]
  },
  {
   "cell_type": "code",
   "execution_count": 1,
   "id": "welsh-timeline",
   "metadata": {
    "scrolled": false
   },
   "outputs": [
    {
     "data": {
      "text/html": [
       "<div>\n",
       "<style scoped>\n",
       "    .dataframe tbody tr th:only-of-type {\n",
       "        vertical-align: middle;\n",
       "    }\n",
       "\n",
       "    .dataframe tbody tr th {\n",
       "        vertical-align: top;\n",
       "    }\n",
       "\n",
       "    .dataframe thead th {\n",
       "        text-align: right;\n",
       "    }\n",
       "</style>\n",
       "<table border=\"1\" class=\"dataframe\">\n",
       "  <thead>\n",
       "    <tr style=\"text-align: right;\">\n",
       "      <th></th>\n",
       "      <th>id</th>\n",
       "      <th>gene</th>\n",
       "      <th>database</th>\n",
       "    </tr>\n",
       "  </thead>\n",
       "  <tbody>\n",
       "    <tr>\n",
       "      <th>0</th>\n",
       "      <td>433592062</td>\n",
       "      <td>acdA</td>\n",
       "      <td>arCOG</td>\n",
       "    </tr>\n",
       "    <tr>\n",
       "      <th>1</th>\n",
       "      <td>70607943</td>\n",
       "      <td>acdA</td>\n",
       "      <td>arCOG</td>\n",
       "    </tr>\n",
       "    <tr>\n",
       "      <th>2</th>\n",
       "      <td>11499826</td>\n",
       "      <td>acdA</td>\n",
       "      <td>arCOG</td>\n",
       "    </tr>\n",
       "    <tr>\n",
       "      <th>3</th>\n",
       "      <td>433638316</td>\n",
       "      <td>acdA</td>\n",
       "      <td>arCOG</td>\n",
       "    </tr>\n",
       "    <tr>\n",
       "      <th>4</th>\n",
       "      <td>15789868</td>\n",
       "      <td>acdA</td>\n",
       "      <td>arCOG</td>\n",
       "    </tr>\n",
       "    <tr>\n",
       "      <th>...</th>\n",
       "      <td>...</td>\n",
       "      <td>...</td>\n",
       "      <td>...</td>\n",
       "    </tr>\n",
       "    <tr>\n",
       "      <th>610203</th>\n",
       "      <td>WP_093109958.1</td>\n",
       "      <td>pfp</td>\n",
       "      <td>NCBI</td>\n",
       "    </tr>\n",
       "    <tr>\n",
       "      <th>610204</th>\n",
       "      <td>WP_003264028.1</td>\n",
       "      <td>mdh-K00024</td>\n",
       "      <td>NCBI</td>\n",
       "    </tr>\n",
       "    <tr>\n",
       "      <th>610205</th>\n",
       "      <td>WP_065250463.1</td>\n",
       "      <td>rnfG</td>\n",
       "      <td>NCBI</td>\n",
       "    </tr>\n",
       "    <tr>\n",
       "      <th>610206</th>\n",
       "      <td>WP_060014582.1</td>\n",
       "      <td>pqqE</td>\n",
       "      <td>NCBI</td>\n",
       "    </tr>\n",
       "    <tr>\n",
       "      <th>610207</th>\n",
       "      <td>WP_088960491.1</td>\n",
       "      <td>ackA</td>\n",
       "      <td>NCBI</td>\n",
       "    </tr>\n",
       "  </tbody>\n",
       "</table>\n",
       "<p>610208 rows × 3 columns</p>\n",
       "</div>"
      ],
      "text/plain": [
       "                    id        gene database\n",
       "0            433592062        acdA    arCOG\n",
       "1             70607943        acdA    arCOG\n",
       "2             11499826        acdA    arCOG\n",
       "3            433638316        acdA    arCOG\n",
       "4             15789868        acdA    arCOG\n",
       "...                ...         ...      ...\n",
       "610203  WP_093109958.1         pfp     NCBI\n",
       "610204  WP_003264028.1  mdh-K00024     NCBI\n",
       "610205  WP_065250463.1        rnfG     NCBI\n",
       "610206  WP_060014582.1        pqqE     NCBI\n",
       "610207  WP_088960491.1        ackA     NCBI\n",
       "\n",
       "[610208 rows x 3 columns]"
      ]
     },
     "execution_count": 1,
     "metadata": {},
     "output_type": "execute_result"
    }
   ],
   "source": [
    "import numpy as np\n",
    "import pandas as pd\n",
    "\n",
    "metadata = pd.read_csv(\"../MCycDB/metadata_filtered.csv\")\n",
    "\n",
    "metadata"
   ]
  },
  {
   "cell_type": "code",
   "execution_count": 23,
   "id": "injured-collective",
   "metadata": {},
   "outputs": [
    {
     "name": "stdout",
     "output_type": "stream",
     "text": [
      "['hxlB', 'hxlA', 'pfkA', 'pfkB', 'pfkC', 'pfp', 'fbaA', 'fbaB', 'glpX', 'fbp3', 'fae-hps', 'fbp-SEBP']\n"
     ]
    }
   ],
   "source": []
  },
  {
   "cell_type": "code",
   "execution_count": null,
   "id": "applied-scotland",
   "metadata": {},
   "outputs": [],
   "source": []
  }
 ],
 "metadata": {
  "kernelspec": {
   "display_name": "Python 3 (ipykernel)",
   "language": "python",
   "name": "python3"
  },
  "language_info": {
   "codemirror_mode": {
    "name": "ipython",
    "version": 3
   },
   "file_extension": ".py",
   "mimetype": "text/x-python",
   "name": "python",
   "nbconvert_exporter": "python",
   "pygments_lexer": "ipython3",
   "version": "3.9.12"
  }
 },
 "nbformat": 4,
 "nbformat_minor": 5
}
